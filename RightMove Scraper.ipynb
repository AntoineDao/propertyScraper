{
 "cells": [
  {
   "cell_type": "code",
   "execution_count": 4,
   "metadata": {},
   "outputs": [],
   "source": [
    "import requests"
   ]
  },
  {
   "cell_type": "code",
   "execution_count": 5,
   "metadata": {},
   "outputs": [],
   "source": [
    "link = \"http://www.rightmove.co.uk/property-to-rent/find.html?minBedrooms=2&sortType=6&viewType=LIST&channel=RENT&index=0&maxPrice=1000&radius=0.0&numberOfPropertiesPerPage=499&locationIdentifier=USERDEFINEDAREA%5E%7B%22polylines%22%3A%22kcmtIfpjRhZ%7ELzXnmBxFlqCmb%40hw%40qgAs%5Euu%40qaA_N_uB%7ESmq%40d%5Ds%7B%40n%60A%3F%22%7D\"\n",
    "\n",
    "page = requests.get(link)"
   ]
  },
  {
   "cell_type": "code",
   "execution_count": 6,
   "metadata": {},
   "outputs": [],
   "source": [
    "search_file = open(\"data/rightmovesearch.html\", \"w\")\n",
    "search_file.write(page.text)\n",
    "search_file.close()"
   ]
  },
  {
   "cell_type": "code",
   "execution_count": 7,
   "metadata": {},
   "outputs": [],
   "source": [
    "from bs4 import BeautifulSoup\n",
    "\n",
    "search_file = open(\"data/rightmovesearch.html\", \"r\")\n",
    "\n",
    "soup = BeautifulSoup(search_file, 'html.parser')"
   ]
  },
  {
   "cell_type": "code",
   "execution_count": 8,
   "metadata": {},
   "outputs": [
    {
     "name": "stdout",
     "output_type": "stream",
     "text": [
      "52157724\n",
      "52627572\n",
      "52332516\n",
      "52632474\n",
      "64105495\n",
      "52958376\n",
      "52897554\n",
      "71332193\n",
      "52840455\n",
      "63907516\n",
      "63907492\n",
      "51068713\n",
      "71124878\n",
      "52589718\n",
      "52561479\n",
      "63614986\n",
      "52367112\n",
      "52328166\n",
      "52049370\n",
      "69936770\n",
      "69451298\n",
      "40381836\n"
     ]
    }
   ],
   "source": [
    "import re\n",
    "id_list = soup.find_all(\"a\", {\"class\": \"propertyCard-anchor\"})\n",
    "\n",
    "for id in id_list:\n",
    "    print_id = re.sub(\"prop\",\"\",id[\"id\"])\n",
    "    print(print_id) if len(print_id) ==8 else None"
   ]
  },
  {
   "cell_type": "code",
   "execution_count": 10,
   "metadata": {},
   "outputs": [],
   "source": [
    "results_id = \"l-searchResults\"\n",
    "\n",
    "results = soup.find(\"div\", {\"id\": results_id})"
   ]
  },
  {
   "cell_type": "code",
   "execution_count": 20,
   "metadata": {},
   "outputs": [],
   "source": [
    "result_class = \"propertyCard-img-link\"\n",
    "\n",
    "cards = results.find_all(\"a\", {\"class\": result_class})"
   ]
  },
  {
   "cell_type": "code",
   "execution_count": 21,
   "metadata": {
    "scrolled": true
   },
   "outputs": [
    {
     "name": "stdout",
     "output_type": "stream",
     "text": [
      "/property-to-rent/property-64105495.html\n",
      "/property-to-rent/property-52958376.html\n",
      "/property-to-rent/property-52897554.html\n",
      "/property-to-rent/property-71332193.html\n",
      "/property-to-rent/property-52840455.html\n",
      "/property-to-rent/property-63907516.html\n",
      "/property-to-rent/property-63907492.html\n",
      "/property-to-rent/property-63907453.html\n",
      "/property-to-rent/property-51068713.html\n",
      "/property-to-rent/property-71124878.html\n",
      "/property-to-rent/property-52632474.html\n",
      "/property-to-rent/property-52589718.html\n",
      "/property-to-rent/property-52561479.html\n",
      "/property-to-rent/property-63614986.html\n",
      "/property-to-rent/property-52367112.html\n",
      "/property-to-rent/property-52627572.html\n",
      "/property-to-rent/property-52332516.html\n",
      "/property-to-rent/property-52328166.html\n",
      "/property-to-rent/property-52157724.html\n",
      "/property-to-rent/property-52049370.html\n",
      "/property-to-rent/property-69936770.html\n",
      "/property-to-rent/property-69451298.html\n",
      "/property-to-rent/property-40381836.html\n"
     ]
    }
   ],
   "source": [
    "for card in cards:\n",
    "    if card[\"href\"] != \"\":\n",
    "        print(card[\"href\"])"
   ]
  },
  {
   "cell_type": "code",
   "execution_count": 22,
   "metadata": {},
   "outputs": [],
   "source": [
    "individual_link = \"http://www.rightmove.co.uk\" + cards[1][\"href\"]\n",
    "\n",
    "individual_page = requests.get(individual_link)"
   ]
  },
  {
   "cell_type": "code",
   "execution_count": 23,
   "metadata": {},
   "outputs": [],
   "source": [
    "search_file = open(\"data/rightmoverent.html\", \"w\")\n",
    "search_file.write(individual_page.text)\n",
    "search_file.close()"
   ]
  },
  {
   "cell_type": "code",
   "execution_count": 24,
   "metadata": {},
   "outputs": [],
   "source": [
    "search_file = open(\"data/rightmoverent.html\", \"r\")\n",
    "\n",
    "individual_soup = BeautifulSoup(search_file, \"html.parser\")"
   ]
  },
  {
   "cell_type": "code",
   "execution_count": 25,
   "metadata": {},
   "outputs": [
    {
     "data": {
      "text/plain": [
       "['995']"
      ]
     },
     "execution_count": 25,
     "metadata": {},
     "output_type": "execute_result"
    }
   ],
   "source": [
    "import re\n",
    "\n",
    "price = individual_soup.find(\"p\", {\"id\":\"propertyHeaderPrice\"}).getText()\n",
    "re.findall(\"\\d+\", price)"
   ]
  },
  {
   "cell_type": "code",
   "execution_count": 26,
   "metadata": {},
   "outputs": [
    {
     "data": {
      "text/plain": [
       "'2 bedroom flat to rent'"
      ]
     },
     "execution_count": 26,
     "metadata": {},
     "output_type": "execute_result"
    }
   ],
   "source": [
    "individual_soup.find(\"h1\", {\"itemprop\": \"name\"}).getText()"
   ]
  },
  {
   "cell_type": "code",
   "execution_count": 49,
   "metadata": {
    "scrolled": true
   },
   "outputs": [
    {
     "name": "stdout",
     "output_type": "stream",
     "text": [
      "http://www.rightmove.co.uk/property-to-rent/property-64105495.html\n",
      "[' GRINDLAY STREET', ' CITY CENTRE', ' EH3 9AS']\n",
      " city centre\n",
      "{'postcode': 'EH3 9AS', 'street': None, 'tags': ['City Centre']}\n",
      "http://www.rightmove.co.uk/property-to-rent/property-52958376.html\n",
      "[' Grassmarket', ' Old Town', ' Edinburgh']\n",
      " grassmarket\n",
      " old town\n",
      " edinburgh\n",
      "{'postcode': None, 'street': None, 'tags': ['Grassmarket', 'Old Town', 'Edinburgh']}\n",
      "http://www.rightmove.co.uk/property-to-rent/property-52897554.html\n",
      "[' William Street', ' Edinburgh', ' ']\n",
      " edinburgh\n",
      " \n",
      "{'postcode': None, 'street': 'William Street', 'tags': ['Edinburgh', '']}\n",
      "http://www.rightmove.co.uk/property-to-rent/property-71332193.html\n",
      "[' Sciennes', ' Marchmont', ' Edinburgh']\n",
      " sciennes\n",
      " marchmont\n",
      " edinburgh\n",
      "{'postcode': None, 'street': None, 'tags': ['Sciennes', 'Marchmont', 'Edinburgh']}\n",
      "http://www.rightmove.co.uk/property-to-rent/property-52840455.html\n",
      "[' Northumberland Street', ' New Town', ' Edinburgh']\n",
      " new town\n",
      " edinburgh\n",
      "{'postcode': None, 'street': 'Northumberland Street', 'tags': ['New Town', 'Edinburgh']}\n",
      "http://www.rightmove.co.uk/property-to-rent/property-63907516.html\n",
      "[' St Marys Street', ' Central', ' Edinburgh', ' EH1']\n",
      " central\n",
      " edinburgh\n",
      "{'postcode': 'EH1', 'street': 'St Marys Street', 'tags': ['Central', 'Edinburgh']}\n",
      "http://www.rightmove.co.uk/property-to-rent/property-63907492.html\n",
      "[' Viewcraig Gardens', ' Newington', ' Edinburgh', ' EH8']\n",
      " viewcraig gardens\n",
      " newington\n",
      " edinburgh\n",
      "{'postcode': 'EH8', 'street': None, 'tags': ['Viewcraig Gardens', 'Newington', 'Edinburgh']}\n",
      "http://www.rightmove.co.uk/property-to-rent/property-63907453.html\n",
      "[' Blackwood Crescent', ' Newington', ' Edinburgh', ' EH9']\n",
      " blackwood crescent\n",
      " newington\n",
      " edinburgh\n",
      "{'postcode': 'EH9', 'street': None, 'tags': ['Blackwood Crescent', 'Newington', 'Edinburgh']}\n",
      "http://www.rightmove.co.uk/property-to-rent/property-51068713.html\n",
      "[' Panmure Place', ' Edinburgh', ' EH3']\n",
      " panmure place\n",
      " edinburgh\n",
      "{'postcode': 'EH3', 'street': None, 'tags': ['Panmure Place', 'Edinburgh']}\n",
      "http://www.rightmove.co.uk/property-to-rent/property-71124878.html\n",
      "[' Bryson Road', ' EDINBURGH', ' Midlothian', ' EH11']\n",
      " bryson road\n",
      " edinburgh\n",
      " midlothian\n",
      "{'postcode': 'EH11', 'street': None, 'tags': ['Bryson Road', 'Edinburgh', 'Midlothian']}\n",
      "http://www.rightmove.co.uk/property-to-rent/property-52632474.html\n",
      "[' The Pleasance', ' Edinburgh']\n",
      " the pleasance\n",
      " edinburgh\n",
      "{'postcode': None, 'street': None, 'tags': ['The Pleasance', 'Edinburgh']}\n",
      "http://www.rightmove.co.uk/property-to-rent/property-52589718.html\n",
      "[' East Crosscauseway', ' Newington', ' Edinburgh']\n",
      " east crosscauseway\n",
      " newington\n",
      " edinburgh\n",
      "{'postcode': None, 'street': None, 'tags': ['East Crosscauseway', 'Newington', 'Edinburgh']}\n",
      "http://www.rightmove.co.uk/property-to-rent/property-52561479.html\n",
      "[' Viewforth', ' Bruntsfield', ' Edinburgh']\n",
      " viewforth\n",
      " bruntsfield\n",
      " edinburgh\n",
      "{'postcode': None, 'street': None, 'tags': ['Viewforth', 'Bruntsfield', 'Edinburgh']}\n",
      "http://www.rightmove.co.uk/property-to-rent/property-63614986.html\n",
      "[' Leith Street', ' Edinburgh', ' ']\n",
      " edinburgh\n",
      " \n",
      "{'postcode': None, 'street': 'Leith Street', 'tags': ['Edinburgh', '']}\n",
      "http://www.rightmove.co.uk/property-to-rent/property-52367112.html\n",
      "[' Morrison Street', ' West End', ' Edinburgh']\n",
      " west end\n",
      " edinburgh\n",
      "{'postcode': None, 'street': 'Morrison Street', 'tags': ['West End', 'Edinburgh']}\n",
      "http://www.rightmove.co.uk/property-to-rent/property-52627572.html\n",
      "[' Blackwood Crescent', ' Newington', ' Edinburgh']\n",
      " blackwood crescent\n",
      " newington\n",
      " edinburgh\n",
      "{'postcode': None, 'street': None, 'tags': ['Blackwood Crescent', 'Newington', 'Edinburgh']}\n",
      "http://www.rightmove.co.uk/property-to-rent/property-52332516.html\n",
      "[' Gilmours Entry', ' Newington', ' Edinburgh']\n",
      " gilmours entry\n",
      " newington\n",
      " edinburgh\n",
      "{'postcode': None, 'street': None, 'tags': ['Gilmours Entry', 'Newington', 'Edinburgh']}\n",
      "http://www.rightmove.co.uk/property-to-rent/property-52328166.html\n",
      "[' Gayfield Street', ' Edinburgh', ' EH1']\n",
      " edinburgh\n",
      "{'postcode': 'EH1', 'street': 'Gayfield Street', 'tags': ['Edinburgh']}\n",
      "http://www.rightmove.co.uk/property-to-rent/property-52157724.html\n",
      "[' Livingstone Place', ' Sciennes', ' Edinburgh']\n",
      " livingstone place\n",
      " sciennes\n",
      " edinburgh\n",
      "{'postcode': None, 'street': None, 'tags': ['Livingstone Place', 'Sciennes', 'Edinburgh']}\n",
      "http://www.rightmove.co.uk/property-to-rent/property-52049370.html\n",
      "[' Bernard Terrace', ' Newington', ' Edinburgh']\n",
      " bernard terrace\n",
      " newington\n",
      " edinburgh\n",
      "{'postcode': None, 'street': None, 'tags': ['Bernard Terrace', 'Newington', 'Edinburgh']}\n",
      "http://www.rightmove.co.uk/property-to-rent/property-69936770.html\n",
      "[' Collegiate Buccleuch Street', ' Edinburgh', ' EH8']\n",
      " edinburgh\n",
      "{'postcode': 'EH8', 'street': 'Collegiate Buccleuch Street', 'tags': ['Edinburgh']}\n",
      "http://www.rightmove.co.uk/property-to-rent/property-69451298.html\n",
      "[' Morrison Circus', ' Edinburgh', ' EH3 8DX']\n",
      " morrison circus\n",
      " edinburgh\n",
      "{'postcode': 'EH3 8DX', 'street': None, 'tags': ['Morrison Circus', 'Edinburgh']}\n",
      "http://www.rightmove.co.uk/property-to-rent/property-40381836.html\n",
      "[' Collegiate Buccleuch Street', ' Edinburgh', ' EH8']\n",
      " edinburgh\n",
      "{'postcode': 'EH8', 'street': 'Collegiate Buccleuch Street', 'tags': ['Edinburgh']}\n"
     ]
    },
    {
     "ename": "AttributeError",
     "evalue": "'NoneType' object has no attribute 'getText'",
     "output_type": "error",
     "traceback": [
      "\u001b[0;31m---------------------------------------------------------------------------\u001b[0m",
      "\u001b[0;31mAttributeError\u001b[0m                            Traceback (most recent call last)",
      "\u001b[0;32m<ipython-input-49-8df3f7da377d>\u001b[0m in \u001b[0;36m<module>\u001b[0;34m()\u001b[0m\n\u001b[1;32m     35\u001b[0m     \u001b[0mindividual_soup\u001b[0m \u001b[0;34m=\u001b[0m \u001b[0mBeautifulSoup\u001b[0m\u001b[0;34m(\u001b[0m\u001b[0mindividual_page\u001b[0m\u001b[0;34m.\u001b[0m\u001b[0mcontent\u001b[0m\u001b[0;34m,\u001b[0m \u001b[0;34m\"html.parser\"\u001b[0m\u001b[0;34m)\u001b[0m\u001b[0;34m\u001b[0m\u001b[0m\n\u001b[1;32m     36\u001b[0m \u001b[0;34m\u001b[0m\u001b[0m\n\u001b[0;32m---> 37\u001b[0;31m     \u001b[0maddress\u001b[0m \u001b[0;34m=\u001b[0m \u001b[0mre\u001b[0m\u001b[0;34m.\u001b[0m\u001b[0msub\u001b[0m\u001b[0;34m(\u001b[0m\u001b[0;34m\"\\s\"\u001b[0m\u001b[0;34m,\u001b[0m \u001b[0;34m\" \"\u001b[0m\u001b[0;34m,\u001b[0m \u001b[0mindividual_soup\u001b[0m\u001b[0;34m.\u001b[0m\u001b[0mfind\u001b[0m\u001b[0;34m(\u001b[0m\u001b[0;34m\"address\"\u001b[0m\u001b[0;34m,\u001b[0m \u001b[0;34m{\u001b[0m\u001b[0;34m\"itemprop\"\u001b[0m\u001b[0;34m:\u001b[0m \u001b[0;34m\"address\"\u001b[0m\u001b[0;34m}\u001b[0m\u001b[0;34m)\u001b[0m\u001b[0;34m.\u001b[0m\u001b[0mgetText\u001b[0m\u001b[0;34m(\u001b[0m\u001b[0;34m)\u001b[0m\u001b[0;34m)\u001b[0m\u001b[0;34m\u001b[0m\u001b[0m\n\u001b[0m\u001b[1;32m     38\u001b[0m     \u001b[0maddress\u001b[0m \u001b[0;34m=\u001b[0m \u001b[0mre\u001b[0m\u001b[0;34m.\u001b[0m\u001b[0msub\u001b[0m\u001b[0;34m(\u001b[0m\u001b[0;34m\" +\"\u001b[0m\u001b[0;34m,\u001b[0m\u001b[0;34m\" \"\u001b[0m\u001b[0;34m,\u001b[0m\u001b[0maddress\u001b[0m\u001b[0;34m)\u001b[0m\u001b[0;34m.\u001b[0m\u001b[0msplit\u001b[0m\u001b[0;34m(\u001b[0m\u001b[0;34m\",\"\u001b[0m\u001b[0;34m)\u001b[0m\u001b[0;34m\u001b[0m\u001b[0m\n\u001b[1;32m     39\u001b[0m     \u001b[0mprint\u001b[0m\u001b[0;34m(\u001b[0m\u001b[0mindividual_link\u001b[0m\u001b[0;34m)\u001b[0m\u001b[0;34m\u001b[0m\u001b[0m\n",
      "\u001b[0;31mAttributeError\u001b[0m: 'NoneType' object has no attribute 'getText'"
     ]
    }
   ],
   "source": [
    "import re\n",
    "\n",
    "class rightMoveAddress():\n",
    "    \n",
    "    def __init__(self, address_string):\n",
    "        self.raw = re.sub(\"\\s\", \" \", address_string)\n",
    "        self.raw = re.sub(\" +\", \" \", self.raw).split(\",\")\n",
    "        \n",
    "        self.postcode = None\n",
    "        self.street = None\n",
    "        self.tags = list()\n",
    "        \n",
    "    def parse(self):\n",
    "        for item in self.raw:\n",
    "            if re.match(\"[A-Z]{1,2}[0-9R]{1,2}\", item[1:]):\n",
    "                self.postcode = item[1:]\n",
    "            elif \"street\" in item.lower():\n",
    "                self.street = item[1:].title()\n",
    "            else:\n",
    "                print(item.lower())\n",
    "                self.tags.append(item[1:].title())\n",
    "    \n",
    "    def to_json(self):\n",
    "        return {\n",
    "            \"postcode\": self.postcode,\n",
    "            \"street\": self.street,\n",
    "            \"tags\": self.tags\n",
    "        }\n",
    "                \n",
    "\n",
    "for link in cards:\n",
    "    individual_link = \"http://www.rightmove.co.uk\" + link[\"href\"]\n",
    "\n",
    "    individual_page = requests.get(individual_link)\n",
    "    individual_soup = BeautifulSoup(individual_page.content, \"html.parser\")\n",
    "\n",
    "    address = re.sub(\"\\s\", \" \", individual_soup.find(\"address\", {\"itemprop\": \"address\"}).getText())\n",
    "    address = re.sub(\" +\",\" \",address).split(\",\")\n",
    "    print(individual_link)\n",
    "    print(address)\n",
    "    address_obj = rightMoveAddress(individual_soup.find(\"address\", {\"itemprop\": \"address\"}).getText())\n",
    "    address_obj.parse()\n",
    "    print(address_obj.to_json())"
   ]
  },
  {
   "cell_type": "code",
   "execution_count": 57,
   "metadata": {},
   "outputs": [
    {
     "data": {
      "text/plain": [
       "['Double Bedrooms: 2',\n",
       " 'Central Heating Gas',\n",
       " 'Carpet Flooring',\n",
       " 'Council Tax Band E',\n",
       " 'Smoke Detector',\n",
       " 'Gas Oven',\n",
       " 'Gas Hob',\n",
       " 'Washing Machine',\n",
       " 'Fridge',\n",
       " 'Bath']"
      ]
     },
     "execution_count": 57,
     "metadata": {},
     "output_type": "execute_result"
    }
   ],
   "source": [
    "key_features = individual_soup.find(\"div\", {\"class\": \"key-features\"}).find_all(\"li\")\n",
    "\n",
    "feature_list = [feature.getText() for feature in key_features]\n",
    "\n",
    "feature_list"
   ]
  },
  {
   "cell_type": "code",
   "execution_count": 63,
   "metadata": {},
   "outputs": [
    {
     "data": {
      "text/plain": [
       "\"Centrally located FURNISHED first floor two double bedroom flat located right in the heart of Edinburgh's old town. With windows looking out directly onto Grassmarket which has many excellent pubs, restaurants and shops. The flat is also just a short jaunt up castle hill to get to Princes Street which has bus routes to everywhere in the city, as well as Edinburgh Waverley station.The flat comprises of a comfortable living room with small dining area, Fitted kitchen, two double bedrooms and bathroom with shower, Further benefits include gas central heating, gas oven, and the excellent location.Landlord Registration: 101515/230/27300EPC Rating:C\""
      ]
     },
     "execution_count": 63,
     "metadata": {},
     "output_type": "execute_result"
    }
   ],
   "source": [
    "description = individual_soup.find(\"p\", {\"itemprop\":\"description\"}).getText()\n",
    "description = re.sub(\"\\s\", \" \", description)\n",
    "re.sub(\" +\", \" \", description)[1:]"
   ]
  },
  {
   "cell_type": "code",
   "execution_count": 56,
   "metadata": {},
   "outputs": [
    {
     "data": {
      "text/plain": [
       "{'Added on Rightmove': '14 February 2018 (4 days ago)',\n",
       " 'Date available': '06/04/2018',\n",
       " 'Deposit': '£1195',\n",
       " 'Furnishing': 'Furnished',\n",
       " 'Letting type': 'Long term'}"
      ]
     },
     "execution_count": 56,
     "metadata": {},
     "output_type": "execute_result"
    }
   ],
   "source": [
    "info_div =  individual_soup.find(\"div\", {\"id\": \"lettingInformation\"})\n",
    "info_table = info_div.find_all(\"tr\")\n",
    "\n",
    "info_dict = {}\n",
    "\n",
    "for row in info_table:\n",
    "    key_value = row.find_all(\"td\")\n",
    "    key = key_value[0].getText().split(\":\")[0]\n",
    "    value = key_value[1].getText()\n",
    "    info_dict[key] = value\n",
    "\n",
    "info_dict"
   ]
  },
  {
   "cell_type": "code",
   "execution_count": 82,
   "metadata": {},
   "outputs": [],
   "source": [
    "import requests\n",
    "from bs4 import BeautifulSoup\n",
    "import re\n",
    "\n",
    "class address():\n",
    "    \n",
    "    def __init__(self, address_string):\n",
    "        self.raw = re.sub(\"\\s\", \" \", address_string)\n",
    "        self.raw = re.sub(\" +\", \" \", self.raw).split(\",\")\n",
    "        \n",
    "        self.postcode = None\n",
    "        self.street = None\n",
    "        self.tags = list()\n",
    "        \n",
    "    def parse(self):\n",
    "        for item in self.raw:\n",
    "            if re.match(\"[A-Z]{1,2}[0-9R]{1,2}\", item[1:]):\n",
    "                self.postcode = item[1:]\n",
    "            elif \"street\" in item.lower():\n",
    "                self.street = item[1:].title()\n",
    "            else:\n",
    "                self.tags.append(item[1:].title())\n",
    "    \n",
    "    def to_json(self):\n",
    "        return {\n",
    "            \"postcode\": self.postcode,\n",
    "            \"street\": self.street,\n",
    "            \"tags\": self.tags\n",
    "        }\n",
    "    \n",
    "class key_info():\n",
    "    \n",
    "    def __init__(self, soup):\n",
    "        \n",
    "        \"\"\"\n",
    "        rent\n",
    "        date available\n",
    "        deposit\n",
    "        letting type\n",
    "        desposit\n",
    "        furnished\n",
    "        epc\n",
    "        council tax\n",
    "        \n",
    "        \"\"\"\n",
    "        self.rent = int(re.findall(\"\\d+\", soup.find(\"p\", {\"id\":\"propertyHeaderPrice\"}).getText())[0])\n",
    "        self.letting_information = {}\n",
    "\n",
    "        info_div =  soup.find(\"div\", {\"id\": \"lettingInformation\"})\n",
    "        info_table = info_div.find_all(\"tr\")\n",
    "        \n",
    "        for row in info_table:\n",
    "            key_value = row.find_all(\"td\")\n",
    "            key = key_value[0].getText().split(\":\")[0]\n",
    "            value = key_value[1].getText()\n",
    "            if key == \"Date available\":\n",
    "                self.date_available = value\n",
    "            elif key == \"Deposit\":\n",
    "                self.deposit = int(value[1:])\n",
    "            elif key == \"Furnishing\":\n",
    "                self.furnishing = value\n",
    "            elif key == \"Letting type\":\n",
    "                self.letting_type = value\n",
    "\n",
    "class rentedAccomodation():\n",
    "    \n",
    "    def __init__(self, id):\n",
    "        self.href = \"http://www.rightmove.co.uk/property-to-rent/property-\" + str(id) + \".html\"\n",
    "        self.soup = BeautifulSoup(requests.get(self.href).content, \"html.parser\")\n",
    "        \n",
    "    def parse(self):\n",
    "        self.title = self.soup.find(\"h1\", {\"itemprop\": \"name\"}).getText()\n",
    "        \n",
    "        self.address = address(self.soup.find(\"address\", {\"itemprop\": \"address\"}).getText())\n",
    "        self.address.parse()\n",
    "        \n",
    "        self.key_info = key_info(self.soup)\n",
    "        \n",
    "        self.description = re.sub(\"\\s\", \" \", self.soup.find(\"p\", {\"itemprop\":\"description\"}).getText())\n",
    "        self.description = re.sub(\" +\", \" \", self.description)[1:]\n",
    "        \n",
    "        self.tags = [tag.getText() for tag in self.soup.find(\"div\", {\"class\": \"key-features\"}).find_all(\"li\")]\n",
    "        "
   ]
  },
  {
   "cell_type": "code",
   "execution_count": 83,
   "metadata": {},
   "outputs": [
    {
     "data": {
      "text/plain": [
       "['Double Bedrooms: 1',\n",
       " 'Single Bedrooms: 1',\n",
       " 'Garden Access',\n",
       " 'Parking: Permit Zone',\n",
       " 'Central Heating Gas',\n",
       " 'Council Tax Band D',\n",
       " 'Bath',\n",
       " 'Shower',\n",
       " 'Electric Hob',\n",
       " 'Electric Oven']"
      ]
     },
     "execution_count": 83,
     "metadata": {},
     "output_type": "execute_result"
    }
   ],
   "source": [
    "entry = rentedAccomodation(\"52157724\")\n",
    "entry.parse()\n",
    "entry.address.to_json()\n",
    "entry.key_info.date_available\n",
    "entry.tags"
   ]
  },
  {
   "cell_type": "code",
   "execution_count": null,
   "metadata": {},
   "outputs": [],
   "source": [
    "{\n",
    "    \"title\": \"\", //\n",
    "    \"href\": \"\", //\n",
    "    \"address\": \n",
    "    {\n",
    "        \"postcode\": \"\", //\n",
    "        \"street\": \"\", //\n",
    "        \"latitude\": \"\", //\n",
    "        \"longitude\": \"\", //\n",
    "        \"city\": \"\", //\n",
    "        \"area\": \"\", //\n",
    "        \"tags\": [] //\n",
    "    },\n",
    "    \"description\": \"\", //\n",
    "    \"key_info\": \n",
    "    {\n",
    "        \"rent\": , //\n",
    "        \"date_available\": , //\n",
    "        \"deposit\": , //\n",
    "        \"letting_type\": , //\n",
    "        \"furnishing\": , //\n",
    "        \"epc\": , //\n",
    "        \"council_tax\": , //\n",
    "        \"running_costs\": \n",
    "        {\n",
    "            \"insurrance\": float, //\n",
    "            \"energy\": float, //\n",
    "            \"water\": float, //\n",
    "            \"council_tax\": float, //\n",
    "        }\n",
    "    }\n",
    "    \"tags\": []\n",
    "}"
   ]
  },
  {
   "cell_type": "code",
   "execution_count": 7,
   "metadata": {},
   "outputs": [],
   "source": [
    "%load_ext autoreload\n",
    "%autoreload 2"
   ]
  },
  {
   "cell_type": "code",
   "execution_count": 3,
   "metadata": {},
   "outputs": [],
   "source": [
    "from propertyscraper.accomodation import rentedAccomodation\n",
    "\n",
    "entry = rentedAccomodation.from_rightmove(\"52157724\")\n",
    "\n"
   ]
  },
  {
   "cell_type": "code",
   "execution_count": 4,
   "metadata": {},
   "outputs": [
    {
     "data": {
      "text/plain": [
       "{'address': {'area': None,\n",
       "  'city': None,\n",
       "  'lattitude': None,\n",
       "  'longitude': None,\n",
       "  'postcode': None,\n",
       "  'street': None,\n",
       "  'tags': ['Livingstone Place', 'Sciennes', 'Edinburgh']},\n",
       " 'description': 'Centrally located FURNISHED two bedroom flat located seconds from the Meadows and close to excellent bus links, shops and the University. This well-proportioned flat comprises of a hallway, good size lounge, fully fitted kitchen, utility room, double bedroom, single bedroom and bathroom with shower. The property further benefits from gas central heating, entry phone access, permit zone parking and shared rear garden. Professionals only, no smokers or pets allowed. Landlord Registration No: 92556/230/03090EPC Rating: C',\n",
       " 'href': 'http://www.rightmove.co.uk/property-to-rent/property-52157724.html',\n",
       " 'key_info': {'council_tax': None,\n",
       "  'date_available': '21/02/2018',\n",
       "  'deposit': 1095,\n",
       "  'epc': None,\n",
       "  'furnishing': 'Furnished',\n",
       "  'letting_type': 'Long term',\n",
       "  'rent': 895,\n",
       "  'running_costs': {'council_tax': None,\n",
       "   'energy': None,\n",
       "   'insurrance': None,\n",
       "   'water': None}},\n",
       " 'tags': ['Double Bedrooms: 1',\n",
       "  'Single Bedrooms: 1',\n",
       "  'Garden Access',\n",
       "  'Parking: Permit Zone',\n",
       "  'Central Heating Gas',\n",
       "  'Council Tax Band D',\n",
       "  'Bath',\n",
       "  'Shower',\n",
       "  'Electric Hob',\n",
       "  'Electric Oven'],\n",
       " 'title': '2 bedroom flat to rent'}"
      ]
     },
     "execution_count": 4,
     "metadata": {},
     "output_type": "execute_result"
    }
   ],
   "source": [
    "entry.to_json()"
   ]
  },
  {
   "cell_type": "code",
   "execution_count": null,
   "metadata": {},
   "outputs": [],
   "source": []
  }
 ],
 "metadata": {
  "kernelspec": {
   "display_name": "Python 3",
   "language": "python",
   "name": "python3"
  },
  "language_info": {
   "codemirror_mode": {
    "name": "ipython",
    "version": 3
   },
   "file_extension": ".py",
   "mimetype": "text/x-python",
   "name": "python",
   "nbconvert_exporter": "python",
   "pygments_lexer": "ipython3",
   "version": "3.6.3"
  }
 },
 "nbformat": 4,
 "nbformat_minor": 2
}
